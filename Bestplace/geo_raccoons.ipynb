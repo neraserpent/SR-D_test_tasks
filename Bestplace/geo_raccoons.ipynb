{
 "cells": [
  {
   "cell_type": "markdown",
   "metadata": {},
   "source": [
    "# 1. Медиана трех чисел:\n",
    "Нужно написать функцию, которая возвращает среднее по значению число из трех чисел\n",
    "\n",
    "Например, для a=1, b=2, c=5 результат будет 2."
   ]
  },
  {
   "cell_type": "code",
   "execution_count": 1,
   "metadata": {},
   "outputs": [
    {
     "name": "stdout",
     "output_type": "stream",
     "text": [
      "2 2\n"
     ]
    }
   ],
   "source": [
    "#Общий случай\n",
    "def median3(a, b, c):\n",
    "    args = [a,b,c]\n",
    "    mean, median = sum(args)/float(len(args)), a\n",
    "    for arg in args:\n",
    "        if abs(arg - mean) < abs(median - mean):\n",
    "            median = arg\n",
    "    return median\n",
    "\n",
    "#Частный случай:\n",
    "def median3_2(a, b, c):\n",
    "    return sum([a,b,c]) - min([a,b,c]) - max([a,b,c])\n",
    "\n",
    "print(median3(1,2,5), median3_2(1,2,5))"
   ]
  },
  {
   "cell_type": "markdown",
   "metadata": {},
   "source": [
    "# 2. Задача &quot;Выколотый массив&quot;\n",
    "Arr - массив чисел от 1 до N, в котором одно число выкинули, а остальной\n",
    "массив перемешали. Требуется написать функцию, которая принимает на\n",
    "вход массив arr и возвращает удаленное число. Решение должно быть\n",
    "линейным, не должно модифицировать исходный массив и использовать\n",
    "дополнительную память."
   ]
  },
  {
   "cell_type": "code",
   "execution_count": 7,
   "metadata": {},
   "outputs": [
    {
     "data": {
      "text/plain": [
       "3.0"
      ]
     },
     "execution_count": 7,
     "metadata": {},
     "output_type": "execute_result"
    }
   ],
   "source": [
    "def findMissing(arr):\n",
    "    return arr[-1]*(1 + arr[-1])/2. - sum(arr)\n",
    "\n",
    "findMissing([1,2,4,5,6,7,8,9])"
   ]
  },
  {
   "cell_type": "markdown",
   "metadata": {},
   "source": [
    "# 3. Задача для решения в Jupyter notebook:\n",
    "Научно-исследовательские центры каждый день закупают енотов для\n",
    "экспериментов. По ссылке вы можете скачать датасет, содержащий\n",
    "информацию о закупках за\n",
    "неделю. https://github.com/bestplace/for_interviews/blob/master/raccoons/raccoons.csv Ваша задача — определить, какие научно-исследовательские\n",
    "центры закупили более 500 енотов в течение хотя бы одних календарных\n",
    "суток и нарисовать их на карте, например, используя библиотеку gmaps\n",
    "(https://github.com/pbugnion/gmaps). Вы можете использовать любое другое\n",
    "решение для визуализации данных. Решение необходимо прислать в виде\n",
    "Jupyter notebook (ipynb)."
   ]
  },
  {
   "cell_type": "code",
   "execution_count": 10,
   "metadata": {},
   "outputs": [
    {
     "data": {
      "text/html": [
       "<div>\n",
       "<table border=\"1\" class=\"dataframe\">\n",
       "  <thead>\n",
       "    <tr style=\"text-align: right;\">\n",
       "      <th></th>\n",
       "      <th>corrds</th>\n",
       "      <th>time</th>\n",
       "      <th>raccoons_bought</th>\n",
       "    </tr>\n",
       "  </thead>\n",
       "  <tbody>\n",
       "    <tr>\n",
       "      <th>0</th>\n",
       "      <td>55.771393 37.567392</td>\n",
       "      <td>4423O3138</td>\n",
       "      <td>2</td>\n",
       "    </tr>\n",
       "    <tr>\n",
       "      <th>1</th>\n",
       "      <td>55.705458 37.550926</td>\n",
       "      <td>442365718</td>\n",
       "      <td>0</td>\n",
       "    </tr>\n",
       "    <tr>\n",
       "      <th>2</th>\n",
       "      <td>55.83028 37.404815</td>\n",
       "      <td>442244596</td>\n",
       "      <td>0</td>\n",
       "    </tr>\n",
       "    <tr>\n",
       "      <th>3</th>\n",
       "      <td>55.799092 37.452157</td>\n",
       "      <td>442327511</td>\n",
       "      <td>148.00001</td>\n",
       "    </tr>\n",
       "    <tr>\n",
       "      <th>4</th>\n",
       "      <td>55.749785 37.763962</td>\n",
       "      <td>442248573</td>\n",
       "      <td>1</td>\n",
       "    </tr>\n",
       "  </tbody>\n",
       "</table>\n",
       "</div>"
      ],
      "text/plain": [
       "                corrds       time raccoons_bought\n",
       "0  55.771393 37.567392  4423O3138               2\n",
       "1  55.705458 37.550926  442365718               0\n",
       "2   55.83028 37.404815  442244596               0\n",
       "3  55.799092 37.452157  442327511       148.00001\n",
       "4  55.749785 37.763962  442248573               1"
      ]
     },
     "execution_count": 10,
     "metadata": {},
     "output_type": "execute_result"
    }
   ],
   "source": [
    "import pandas as pd\n",
    "\n",
    "raccoons = pd.read_csv('raccoons.csv.txt', encoding='utf-16', sep=':')\n",
    "raccoons.head()"
   ]
  },
  {
   "cell_type": "code",
   "execution_count": 11,
   "metadata": {},
   "outputs": [
    {
     "data": {
      "text/html": [
       "<div>\n",
       "<table border=\"1\" class=\"dataframe\">\n",
       "  <thead>\n",
       "    <tr style=\"text-align: right;\">\n",
       "      <th></th>\n",
       "      <th>corrds</th>\n",
       "      <th>time</th>\n",
       "      <th>raccoons_bought</th>\n",
       "    </tr>\n",
       "  </thead>\n",
       "  <tbody>\n",
       "    <tr>\n",
       "      <th>0</th>\n",
       "      <td>(55.771393, 37.567392)</td>\n",
       "      <td>1984-01-07</td>\n",
       "      <td>2</td>\n",
       "    </tr>\n",
       "    <tr>\n",
       "      <th>1</th>\n",
       "      <td>(55.705458, 37.550926)</td>\n",
       "      <td>1984-01-08</td>\n",
       "      <td>0</td>\n",
       "    </tr>\n",
       "    <tr>\n",
       "      <th>2</th>\n",
       "      <td>(55.83028, 37.404815)</td>\n",
       "      <td>1984-01-06</td>\n",
       "      <td>0</td>\n",
       "    </tr>\n",
       "    <tr>\n",
       "      <th>3</th>\n",
       "      <td>(55.799092, 37.452157)</td>\n",
       "      <td>1984-01-07</td>\n",
       "      <td>148</td>\n",
       "    </tr>\n",
       "    <tr>\n",
       "      <th>4</th>\n",
       "      <td>(55.749785, 37.763962)</td>\n",
       "      <td>1984-01-06</td>\n",
       "      <td>1</td>\n",
       "    </tr>\n",
       "    <tr>\n",
       "      <th>5</th>\n",
       "      <td>(55.798212, 37.529313)</td>\n",
       "      <td>1984-01-07</td>\n",
       "      <td>100</td>\n",
       "    </tr>\n",
       "    <tr>\n",
       "      <th>6</th>\n",
       "      <td>(55.763579, 37.623798)</td>\n",
       "      <td>1984-01-04</td>\n",
       "      <td>4</td>\n",
       "    </tr>\n",
       "    <tr>\n",
       "      <th>7</th>\n",
       "      <td>(55.655097, 37.533652)</td>\n",
       "      <td>1984-01-03</td>\n",
       "      <td>0</td>\n",
       "    </tr>\n",
       "    <tr>\n",
       "      <th>8</th>\n",
       "      <td>(55.754, 37.669288)</td>\n",
       "      <td>1984-01-06</td>\n",
       "      <td>3</td>\n",
       "    </tr>\n",
       "    <tr>\n",
       "      <th>9</th>\n",
       "      <td>(55.652781, 37.53367)</td>\n",
       "      <td>1984-01-04</td>\n",
       "      <td>4</td>\n",
       "    </tr>\n",
       "  </tbody>\n",
       "</table>\n",
       "</div>"
      ],
      "text/plain": [
       "                   corrds        time  raccoons_bought\n",
       "0  (55.771393, 37.567392)  1984-01-07                2\n",
       "1  (55.705458, 37.550926)  1984-01-08                0\n",
       "2   (55.83028, 37.404815)  1984-01-06                0\n",
       "3  (55.799092, 37.452157)  1984-01-07              148\n",
       "4  (55.749785, 37.763962)  1984-01-06                1\n",
       "5  (55.798212, 37.529313)  1984-01-07              100\n",
       "6  (55.763579, 37.623798)  1984-01-04                4\n",
       "7  (55.655097, 37.533652)  1984-01-03                0\n",
       "8     (55.754, 37.669288)  1984-01-06                3\n",
       "9   (55.652781, 37.53367)  1984-01-04                4"
      ]
     },
     "execution_count": 11,
     "metadata": {},
     "output_type": "execute_result"
    }
   ],
   "source": [
    "#Предварительная чистка\n",
    "import datetime as dt\n",
    "raccoons.time = raccoons.time.str.replace('O','0')\n",
    "raccoons.time = [dt.date.fromtimestamp(int(time)) for time in raccoons.time]\n",
    "raccoons.corrds = raccoons.corrds.str.replace(r'[^0-9.]', ' ')\n",
    "raccoons.corrds = [(float(corrd[:corrd.index(' ')]), float(corrd[corrd.index(' ')+1:])) for corrd in raccoons.corrds]\n",
    "raccoons.raccoons_bought = raccoons.raccoons_bought.str.replace('\"+', '')\n",
    "raccoons.raccoons_bought = [int(float(entry)) for entry in raccoons.raccoons_bought]\n",
    "raccoons[:10]"
   ]
  },
  {
   "cell_type": "code",
   "execution_count": 12,
   "metadata": {},
   "outputs": [],
   "source": [
    "research_locations = []\n",
    "for institute in raccoons.corrds.unique():\n",
    "    institute_subset = raccoons[raccoons.corrds == institute]\n",
    "    if max(institute_subset.groupby('time')['raccoons_bought'].sum()) > 500:\n",
    "        research_locations.append(institute)"
   ]
  },
  {
   "cell_type": "code",
   "execution_count": 6,
   "metadata": {},
   "outputs": [
    {
     "data": {
      "application/vnd.jupyter.widget-view+json": {
       "model_id": "e22aa0c21fd04780a9d414f03dc061b4",
       "version_major": 2,
       "version_minor": 0
      },
      "text/html": [
       "<p>Failed to display Jupyter Widget of type <code>Figure</code>.</p>\n",
       "<p>\n",
       "  If you're reading this message in Jupyter Notebook or JupyterLab, it may mean\n",
       "  that the widgets JavaScript is still loading. If this message persists, it\n",
       "  likely means that the widgets JavaScript library is either not installed or\n",
       "  not enabled. See the <a href=\"https://ipywidgets.readthedocs.io/en/stable/user_install.html\">Jupyter\n",
       "  Widgets Documentation</a> for setup instructions.\n",
       "</p>\n",
       "<p>\n",
       "  If you're reading this message in another notebook frontend (for example, a static\n",
       "  rendering on GitHub or <a href=\"https://nbviewer.jupyter.org/\">NBViewer</a>),\n",
       "  it may mean that your frontend doesn't currently support widgets.\n",
       "</p>\n"
      ],
      "text/plain": [
       "Figure()"
      ]
     },
     "metadata": {},
     "output_type": "display_data"
    }
   ],
   "source": [
    "import gmaps\n",
    "gmaps.configure(api_key=\"Your_api_key\")\n",
    "\n",
    "fig = gmaps.figure()\n",
    "fig.add_layer(gmaps.marker_layer(research_locations))\n",
    "fig"
   ]
  },
  {
   "cell_type": "code",
   "execution_count": null,
   "metadata": {
    "collapsed": true
   },
   "outputs": [],
   "source": []
  }
 ],
 "metadata": {
  "kernelspec": {
   "display_name": "Python 3",
   "language": "python",
   "name": "python3"
  },
  "language_info": {
   "codemirror_mode": {
    "name": "ipython",
    "version": 3
   },
   "file_extension": ".py",
   "mimetype": "text/x-python",
   "name": "python",
   "nbconvert_exporter": "python",
   "pygments_lexer": "ipython3",
   "version": "3.5.2"
  }
 },
 "nbformat": 4,
 "nbformat_minor": 2
}
